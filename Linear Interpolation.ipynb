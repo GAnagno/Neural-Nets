{
 "cells": [
  {
   "cell_type": "markdown",
   "metadata": {},
   "source": [
    "# Linear Interpolation"
   ]
  },
  {
   "cell_type": "code",
   "execution_count": 2,
   "metadata": {},
   "outputs": [
    {
     "name": "stdout",
     "output_type": "stream",
     "text": [
      "Extracting MNIST_data\\train-images-idx3-ubyte.gz\n",
      "Extracting MNIST_data\\train-labels-idx1-ubyte.gz\n",
      "Extracting MNIST_data\\t10k-images-idx3-ubyte.gz\n",
      "Extracting MNIST_data\\t10k-labels-idx1-ubyte.gz\n"
     ]
    }
   ],
   "source": [
    "import tensorflow as tf\n",
    "import numpy as np\n",
    "from logistic.multilayer_perceptron import inference, loss\n",
    "\n",
    "import matplotlib.pyplot as plt\n",
    "\n",
    "from tensorflow.examples.tutorials.mnist import input_data\n",
    "mnist = input_data.read_data_sets('MNIST_data', one_hot=True)"
   ]
  },
  {
   "cell_type": "code",
   "execution_count": 3,
   "metadata": {},
   "outputs": [],
   "source": [
    "# mnist data image of shape 28*28=784\n",
    "x = tf.placeholder(\"float\", [None, 784])\n",
    "# 0-9 digits recognition => 10 classes\n",
    "y = tf.placeholder(\"float\", [None, 10]) "
   ]
  },
  {
   "cell_type": "code",
   "execution_count": 4,
   "metadata": {},
   "outputs": [],
   "source": [
    "sess = tf.Session()"
   ]
  },
  {
   "cell_type": "code",
   "execution_count": 5,
   "metadata": {},
   "outputs": [
    {
     "name": "stdout",
     "output_type": "stream",
     "text": [
      "WARNING:tensorflow:From C:\\Users\\GAO\\Jupyter\\logistic\\multilayer_perceptron.py:37: softmax_cross_entropy_with_logits (from tensorflow.python.ops.nn_ops) is deprecated and will be removed in a future version.\n",
      "Instructions for updating:\n",
      "\n",
      "Future major versions of TensorFlow will allow gradients to flow\n",
      "into the labels input on backprop by default.\n",
      "\n",
      "See @{tf.nn.softmax_cross_entropy_with_logits_v2}.\n",
      "\n",
      "INFO:tensorflow:Restoring parameters from mlp_logs\\model-checkpoint-9009\n"
     ]
    }
   ],
   "source": [
    "with tf.variable_scope(\"mlp_model\") as scope:\n",
    "    output_opt = inference(x)\n",
    "    cost_opt = loss(output_opt, y)\n",
    "    saver = tf.train.Saver()\n",
    "    scope.reuse_variables()\n",
    "    var_list_opt = [\n",
    "        \"hidden_1/W\",\n",
    "        \"hidden_1/b\",\n",
    "        \"hidden_2/W\",\n",
    "        \"hidden_2/b\",\n",
    "        \"output/W\",\n",
    "        \"output/b\"\n",
    "    ]\n",
    "    var_list_opt = [tf.get_variable(v) for v in var_list_opt]\n",
    "    saver.restore(sess, 'mlp_logs\\model-checkpoint-9009')"
   ]
  },
  {
   "cell_type": "code",
   "execution_count": 6,
   "metadata": {},
   "outputs": [],
   "source": [
    "with tf.variable_scope(\"mlp_init\") as scope:\n",
    "    output_rand = inference(x)\n",
    "    cost_rand = loss(output_rand, y)\n",
    "    scope.reuse_variables()\n",
    "    var_list_rand = [\n",
    "        \"hidden_1/W\",\n",
    "        \"hidden_1/b\",\n",
    "        \"hidden_2/W\",\n",
    "        \"hidden_2/b\",\n",
    "        \"output/W\",\n",
    "        \"output/b\"\n",
    "    ]\n",
    "    var_list_rand = [tf.get_variable(v) for v in var_list_rand]\n",
    "    init_op = tf.initializers.variables(var_list_rand)\n",
    "    sess.run(init_op)"
   ]
  },
  {
   "cell_type": "code",
   "execution_count": 7,
   "metadata": {},
   "outputs": [],
   "source": [
    "with tf.variable_scope(\"mlp_inter\") as scope:\n",
    "\n",
    "    alpha = tf.placeholder(\"float\", [1, 1])\n",
    "    beta = 1 - alpha\n",
    "\n",
    "    h1_W_inter = var_list_opt[0] * beta + var_list_rand[0] * alpha\n",
    "    h1_b_inter = var_list_opt[1] * beta + var_list_rand[1] * alpha\n",
    "    h2_W_inter = var_list_opt[2] * beta + var_list_rand[2] * alpha\n",
    "    h2_b_inter = var_list_opt[3] * beta + var_list_rand[3] * alpha\n",
    "    o_W_inter = var_list_opt[4] * beta + var_list_rand[4] * alpha\n",
    "    o_b_inter = var_list_opt[5] * beta + var_list_rand[5] * alpha\n",
    "\n",
    "    h1_inter = tf.nn.relu(tf.matmul(x, h1_W_inter) + h1_b_inter)\n",
    "    h2_inter = tf.nn.relu(tf.matmul(h1_inter, h2_W_inter) + h2_b_inter)\n",
    "    o_inter = tf.nn.relu(tf.matmul(h2_inter, o_W_inter) + o_b_inter)\n",
    "\n",
    "    cost_inter = loss(o_inter, y)\n",
    "    tf.summary.scalar(\"interpolated_cost\", cost_inter)"
   ]
  },
  {
   "cell_type": "code",
   "execution_count": 8,
   "metadata": {},
   "outputs": [
    {
     "name": "stdout",
     "output_type": "stream",
     "text": [
      "WARNING:tensorflow:Passing a `GraphDef` to the SummaryWriter is deprecated. Pass a `Graph` object instead, such as `sess.graph`.\n"
     ]
    },
    {
     "data": {
      "image/png": "[encoded data removed]",
      "text/plain": [
       "<Figure size 1440x720 with 1 Axes>"
      ]
     },
     "metadata": {
      "needs_background": "light"
     },
     "output_type": "display_data"
    }
   ],
   "source": [
    "summary_writer = tf.summary.FileWriter(\"linear_interp_logs/\",\n",
    "                                        graph_def=sess.graph_def)\n",
    "summary_op = tf.summary.merge_all()\n",
    "results = []\n",
    "for a in np.arange(-2, 2, 0.01):\n",
    "    feed_dict = {\n",
    "        x: mnist.test.images,\n",
    "        y: mnist.test.labels,\n",
    "        alpha: [[a]],\n",
    "    }\n",
    "\n",
    "    cost, summary_str = sess.run([cost_inter, summary_op], feed_dict=feed_dict)\n",
    "    summary_writer.add_summary(summary_str, (a + 2)/0.01)\n",
    "    results.append(cost)\n",
    "plt.figure(figsize=(20,10))\n",
    "plt.plot(np.arange(-2, 2, 0.01), results, 'ro')\n",
    "plt.ylabel('Incurred Error')\n",
    "plt.xlabel('Alpha')\n",
    "plt.show()"
   ]
  },
  {
   "cell_type": "code",
   "execution_count": null,
   "metadata": {},
   "outputs": [],
   "source": []
  }
 ],
 "metadata": {
  "kernelspec": {
   "display_name": "TensorFlow-GPU",
   "language": "python",
   "name": "tf-gpu"
  },
  "language_info": {
   "codemirror_mode": {
    "name": "ipython",
    "version": 3
   },
   "file_extension": ".py",
   "mimetype": "text/x-python",
   "name": "python",
   "nbconvert_exporter": "python",
   "pygments_lexer": "ipython3",
   "version": "3.6.6"
  }
 },
 "nbformat": 4,
 "nbformat_minor": 2
}
